{
  "cells": [
    {
      "cell_type": "markdown",
      "metadata": {
        "id": "view-in-github",
        "colab_type": "text"
      },
      "source": [
        "<a href=\"https://colab.research.google.com/github/gapself/ML-coursera/blob/master/jeopardy_data_manipulation.ipynb\" target=\"_parent\"><img src=\"https://colab.research.google.com/assets/colab-badge.svg\" alt=\"Open In Colab\"/></a>"
      ]
    },
    {
      "cell_type": "markdown",
      "metadata": {
        "id": "dCFY98oYOIMy"
      },
      "source": [
        "## Project Requirements"
      ]
    },
    {
      "cell_type": "markdown",
      "metadata": {
        "id": "rYjHB2JROIMz"
      },
      "source": [
        "1. Load the data `jeopardy.csv` into a DataFrame and investigate its contents. Try to print out specific columns.\n",
        "https://www.kaggle.com/datasets/tunguz/200000-jeopardy-questions\n",
        "\n",
        "   Note that in order to make this project as \"real-world\" as possible, we haven't modified the data at all - we're giving it to you exactly how we found it. As a result, this data isn't as \"clean\" as the datasets you normally find on Codecademy. More specifically, there's something odd about the column names. After you figure out the problem with the column names, you may want to rename them to make your life easier for the rest of the project.\n",
        "   \n",
        "   In order to display the full contents of a column, we've added this line of code for you:\n",
        "   \n",
        "   ```py\n",
        "   pd.set_option('display.max_colwidth', None)\n",
        "   ```"
      ]
    },
    {
      "cell_type": "code",
      "execution_count": 8,
      "metadata": {
        "colab": {
          "base_uri": "https://localhost:8080/"
        },
        "id": "wtyka-17OIM0",
        "outputId": "bd78b831-fcc8-4c5f-de59-af36ffb1fbb6"
      },
      "outputs": [
        {
          "output_type": "stream",
          "name": "stdout",
          "text": [
            "   Show Number    Air Date      Round                         Category  Value  \\\n",
            "0         4680  2004-12-31  Jeopardy!                          HISTORY   $200   \n",
            "1         4680  2004-12-31  Jeopardy!  ESPN's TOP 10 ALL-TIME ATHLETES   $200   \n",
            "2         4680  2004-12-31  Jeopardy!      EVERYBODY TALKS ABOUT IT...   $200   \n",
            "3         4680  2004-12-31  Jeopardy!                 THE COMPANY LINE   $200   \n",
            "4         4680  2004-12-31  Jeopardy!              EPITAPHS & TRIBUTES   $200   \n",
            "\n",
            "                                                                                                      Question  \\\n",
            "0             For the last 8 years of his life, Galileo was under house arrest for espousing this man's theory   \n",
            "1  No. 2: 1912 Olympian; football star at Carlisle Indian School; 6 MLB seasons with the Reds, Giants & Braves   \n",
            "2                     The city of Yuma in this state has a record average of 4,055 hours of sunshine each year   \n",
            "3                         In 1963, live on \"The Art Linkletter Show\", this company served its billionth burger   \n",
            "4     Signer of the Dec. of Indep., framer of the Constitution of Mass., second President of the United States   \n",
            "\n",
            "       Answer  \n",
            "0  Copernicus  \n",
            "1  Jim Thorpe  \n",
            "2     Arizona  \n",
            "3  McDonald's  \n",
            "4  John Adams  \n",
            "Index(['Show Number', ' Air Date', ' Round', ' Category', ' Value',\n",
            "       ' Question', ' Answer'],\n",
            "      dtype='object')\n",
            "Index(['Show Number', 'Air Date', 'Round', 'Category', 'Value', 'Question',\n",
            "       'Answer'],\n",
            "      dtype='object')\n"
          ]
        }
      ],
      "source": [
        "import pandas as pd\n",
        "pd.set_option('display.max_colwidth', None)\n",
        "\n",
        "df = pd.read_csv('jeopardy.csv')\n",
        "print(df.head(5))\n",
        "print(df.columns)\n",
        "df.rename(columns={\n",
        "    ' Air Date': 'Air Date',\n",
        "    ' Round': 'Round',\n",
        "    ' Category': 'Category',\n",
        "    ' Question': 'Question',\n",
        "    ' Answer': 'Answer',\n",
        "    ' Value': 'Value'\n",
        "    },\n",
        "    inplace=True)\n",
        "print(df.columns)"
      ]
    },
    {
      "cell_type": "markdown",
      "metadata": {
        "id": "ilogDp1COIM1"
      },
      "source": [
        "2. Write a function that filters the dataset for questions that contains all of the words in a list of words. For example, when the list `[\"King\", \"England\"]` was passed to our function, the function returned a DataFrame of 49 rows. Every row had the strings `\"King\"` and `\"England\"` somewhere in its `\" Question\"`.\n",
        "\n",
        "   Test your function by printing out the column containing the question of each row of the dataset."
      ]
    },
    {
      "cell_type": "code",
      "execution_count": 25,
      "metadata": {
        "colab": {
          "base_uri": "https://localhost:8080/"
        },
        "id": "c73p3CvxOIM2",
        "outputId": "b9e875c0-1806-480c-a908-e1f2465d7e32"
      },
      "outputs": [
        {
          "output_type": "stream",
          "name": "stdout",
          "text": [
            "4953                                                                                                                                                                                                                                                                      Both England's King George V & FDR put their stamp of approval on this \"King of Hobbies\"\n",
            "14912                                                                                                                                                                                                                                                            This country's King Louis IV was nicknamed \"Louis From Overseas\" because he was raised in England\n",
            "21511                                                                                                                                                                                                                                                                                 this man and his son ruled England following the execution of King Charles I\n",
            "23810                                                                                                                                                                                                                                                         William the Conqueror was crowned King of England in Westminster Abbey on Christmas Day in this year\n",
            "27555                                                                                                                                                                                                                                                                           This member of the Medici family was the mother-in-law of England's King Charles I\n",
            "33294                 (Sarah of the Clue Crew delivers the clue from the Bayeux Cathedral in France.)  Despite taking an oath to assure another succession, Harold is crowned King of England; the tapestry indicated it was <a href=\"http://www.j-archive.com/media/2008-12-18_J_08.jpg\" target=\"_blank\">Stigant</a>, this archbishop, who performed the ceremony\n",
            "41148                                                                                                                                                                                                                                    This French king recognized William of Orange as William II, King of England, under the terms of 1697's Treaty of Ryswick\n",
            "41357                                                                                                                                                                                                                                                     England's King Henry VIII had 3 wives named Catherine:  Catherine Howard, Catherine of Aragon & this one\n",
            "43122                                                                                                                                                                                                                                                                                                                       The father of England's King Edward VI\n",
            "47814                                                                                                                                                                                                                                                                                                   This steak sauce was created for King George IV of England\n",
            "49994                                                                                                                                                                                                                                                                       Elizabeth I's half-brother, he reigned before her as King of England from 1547 to 1553\n",
            "51115                                                                                                                  (<a href=\"http://www.j-archive.com/media/2000-03-02_J_22.jpg\" target=\"_blank\">Alex Trebek reads from England.</a>)  In 1214 barons fed up with King John met at the abbey whose ruins we see here; the result a year later was this charter\n",
            "51565                                                                                                                                                                                                                                                 He wrote several anthems, including \"The King Shall Rejoice\", for the coronation of England's King George II\n",
            "56600                                                                                                                                                                                                                                                              This city known for its 24-hour auto race was the birthplace of England's King Henry II in 1133\n",
            "57516                                                                                                                                                                                                                                                                                         Famous (& rather insulting) adjective for England's King Ethelred II\n",
            "58949                                                                                                                                                                                                                                                                        He became King of England in 1399 after forcing his cousin Richard II from the throne\n",
            "71808                                                                                                                                                                                                                                                                                      Number of the William who was England's \"Sailor King\" from 1830 to 1837\n",
            "74235                                                                                                                                                                                                                                                                     Barons & churchmen drew up this 1215 document to reduce the power of England's King John\n",
            "77195                                                                                                                                                                                                                                                          He became King of England on June 26, 1483; just over 2 years later he was killed at Bosworth Field\n",
            "79457                                                                                                                                                                                                                                              On Christmas Day 1066, he was crowned King of England, 72 days after defeating Harold at the Battle of Hastings\n",
            "80113                                                                                                                                                                                                                                                                                                England's King Charles II was known by this \"jovial\" nickname\n",
            "84639                                                                                                                                                                                                                                                                            He went from second banana on \"Roseanne\" to top banana of England in \"King Ralph\"\n",
            "86412                                                                                                                                                                                                                                                                         This country's King Olaf V was born in England & was the grandson of King Edward VII\n",
            "89710                                                                                                                                                                                                                                                            This 11th Century King of England also ruled Denmark & Norway during the latter part of his reign\n",
            "111926                                                                                                                                                                                                                                                   It begins \"John, by the grace of God, King of England, Lord of Ireland, Duke of Normandy & Aquitaine....\"\n",
            "118809                                                                                                                                                                                                                                                                                            In French this King of England is called Guillaume le Conquerant\n",
            "123299                                                                                                                                                                                                                                                                     If you want to be crowned King of England, this rock has to be in your coronation chair\n",
            "123671                                                                                                                                                                                                                                                                                                                              King Henry VII of England dies\n",
            "125822                                                                                                                                                                                                                                                                                              Famous nickname of the eldest son of England's King Edward III\n",
            "127484                                                                                                                                                                                                                                                                Ethelred the Unready managed to lose most of England to King Sweyn Forkbeard of this country\n",
            "127758                                                                                                                                                                                                                                                                                  This state was named for the King of England who reigned from 1727 to 1760\n",
            "129106                                                                                                                                                                                                                                                              King Edward I of England, who fought William Wallace, had this nickname relating to his height\n",
            "130208                                                                                                                                                                                                                                                                                    This \"Sun King\" sniffed, \"England is a little garden full of sour weeds\"\n",
            "137818                                                                                                                                                                                                                                                                                        The last King William to rule England had this number after his name\n",
            "143434                                                                                                                                                                                                                                                                This Flemish artist painted a unique triple portrait of England's King Charles I around 1637\n",
            "150880                                                                                                                                                                                                                                                                                       During Stanley Baldwin's term as P.M., this King of England abdicated\n",
            "165110                                                                                                                                                                                                                                                        The 1st commoner to rule England, he became lord protector following the overthrow of King Charles I\n",
            "165197                                                                                                                                                                                                                                                       The \"Angel of Hadley\" is said to have saved a New England town during the war with this Indian \"King\"\n",
            "170007                                                                                                                                                                                                                                                                In the 1697 Treaty of Rijswijk, the French recognized this Dutch-born man as King of England\n",
            "174055                                                                                                                                                                                                                                                                                            This conqueror was crowned King of England on Christmas Day 1066\n",
            "175259                                                                                                                                                                                                                                                                                                          His short reign as King of England fell in in 1936\n",
            "183462                                                                                                                                                                                                                                                            A capital in the West Indies is named for this family name of William of Orange, King of England\n",
            "186239                                                                                                                                                                                                                                           He was King of England from 1189 to 1199 but spent only 6 months there; the rest of the time, he was off fighting\n",
            "187651                                                                                                                                                                                                                                                                     This Bahamian capital took its name from the family name of King William III of England\n",
            "191579                                                                                                                                                                                                                                                                             England's King Harold II lost the all-important Battle of Hastings in this year\n",
            "192265    (<a href=\"http://www.j-archive.com/media/2012-01-17_DJ_25.jpg\" target=\"_blank\">Sarah of the Clue Crew stands in front of the Royal Palace in Oslo, Norway.</a>) King Harald V lives here, in Norway's Royal Palace. He and his second cousin, England's Queen Elizabeth, are both great-grandchildren of this British king, who ruled from 1901 to 1910.\n",
            "192966                                                                                                                                                                                                                                                                                                                          England's King _____ _____ R. Luce\n",
            "194516                                                                                                                                                                                                                                                            The \"Monty Python\" member who played King Arthur, he ended his grail quest in Maidstone, England\n",
            "200369                                                                                                                                                                                                                                             8th C. King Offa built a 170-mile north-south dike that still partly marks the border of England & this country\n",
            "Name: Question, dtype: object\n"
          ]
        }
      ],
      "source": [
        "# 1st WAY\n",
        "random_words = [\"King\", \"England\"]\n",
        "filter_function = lambda x: all(word in x for word in random_words) \n",
        "filter_data = df.loc[df[\"Question\"].apply(filter_function)]\n",
        "# print(filter_data['Question'])\n",
        "\n",
        "# 2nd WAY\n",
        "def filtering(list_of_words, data):\n",
        "  filter_function = lambda x: all(word in x for word in list_of_words) \n",
        "  filter_data = df.loc[df[\"Question\"].apply(filter_function)]\n",
        "  return filter_data\n",
        "\n",
        "use_function = filtering([\"King\", \"England\"], df)\n",
        "print(use_function['Question'])"
      ]
    },
    {
      "cell_type": "markdown",
      "metadata": {
        "id": "Gd1TyW2yOIM2"
      },
      "source": [
        "3. Test your original function with a few different sets of words to try to find some ways your function breaks. Edit your function so it is more robust.\n",
        "\n",
        "   For example, think about capitalization. We probably want to find questions that contain the word `\"King\"` or `\"king\"`.\n",
        "   \n",
        "   You may also want to check to make sure you don't find rows that contain substrings of your given words. For example, our function found a question that didn't contain the word `\"king\"`, however it did contain the word `\"viking\"` &mdash; it found the `\"king\"` inside `\"viking\"`. Note that this also comes with some drawbacks &mdash; you would no longer find questions that contained words like `\"England's\"`."
      ]
    },
    {
      "cell_type": "code",
      "execution_count": 26,
      "metadata": {
        "colab": {
          "base_uri": "https://localhost:8080/"
        },
        "id": "4NDUoUXwOIM3",
        "outputId": "a50a6278-11b2-42cd-c384-128df2cd29f6"
      },
      "outputs": [
        {
          "output_type": "stream",
          "name": "stdout",
          "text": [
            "4953                    Both England's King George V & FDR put their stamp of approval on this \"King of Hobbies\"\n",
            "6337      In retaliation for Viking raids, this \"Unready\" king of England attacks Norse areas of the Isle of Man\n",
            "9191                    This king of England beat the odds to trounce the French in the 1415 Battle of Agincourt\n",
            "11710               This Scotsman, the first Stuart king of England, was called \"The Wisest Fool in Christendom\"\n",
            "13454                                       It's the number that followed the last king of England named William\n",
            "                                                           ...                                                  \n",
            "208295        In 1066 this great-great grandson of Rollo made what some call the last Viking invasion of England\n",
            "208742                      Dutch-born king who ruled England jointly with Mary II & is a tasty New Zealand fish\n",
            "213870                In 1781 William Herschel discovered Uranus & initially named it after this king of England\n",
            "216021          His nickname was \"Bertie\", but he used this name & number when he became king of England in 1901\n",
            "216789        This kingdom of England grew from 2 settlements, one founded around 495 by Cerdic & his son Cynric\n",
            "Name: Question, Length: 152, dtype: object\n"
          ]
        }
      ],
      "source": [
        "def filtering(list_of_words, data):\n",
        "  filter_function = lambda x: all(word.lower() in x.lower() for word in list_of_words) \n",
        "  filter_data = df.loc[df[\"Question\"].apply(filter_function)]\n",
        "  return filter_data\n",
        "\n",
        "use_function = filtering([\"King\", \"England\"], df)\n",
        "print(use_function['Question'])"
      ]
    },
    {
      "cell_type": "markdown",
      "metadata": {
        "id": "9Yw_UkaFOIM3"
      },
      "source": [
        "4. We may want to eventually compute aggregate statistics, like `.mean()` on the `\" Value\"` column. But right now, the values in that column are strings. Convert the`\" Value\"` column to floats. If you'd like to, you can create a new column with float values.\n",
        "\n",
        "   Now that you can filter the dataset of question, use your new column that contains the float values of each question to find the \"difficulty\" of certain topics. For example, what is the average value of questions that contain the word `\"King\"`?\n",
        "   \n",
        "   Make sure to use the dataset that contains the float values as the dataset you use in your filtering function."
      ]
    },
    {
      "cell_type": "code",
      "execution_count": 73,
      "metadata": {
        "colab": {
          "base_uri": "https://localhost:8080/"
        },
        "id": "QdDD730COIM3",
        "outputId": "e6bb0e86-3db0-4469-b194-87a363ee232f"
      },
      "outputs": [
        {
          "output_type": "stream",
          "name": "stdout",
          "text": [
            "0          200.0\n",
            "1          200.0\n",
            "2          200.0\n",
            "3          200.0\n",
            "4          200.0\n",
            "           ...  \n",
            "216925    2000.0\n",
            "216926    2000.0\n",
            "216927    2000.0\n",
            "216928    2000.0\n",
            "216929       0.0\n",
            "Name: float values, Length: 216930, dtype: float64\n",
            "771.8833850722094\n"
          ]
        }
      ],
      "source": [
        "to_floats = lambda x: float(x[1:].replace(',','')) if x != \"None\" else 0\n",
        "df['float values'] = df['Value'].apply(to_floats)\n",
        "print(df['float values'])\n",
        "\n",
        "king_data = filtering([\"King\"], df)\n",
        "print(king_data['float values'].mean())"
      ]
    },
    {
      "cell_type": "markdown",
      "metadata": {
        "id": "kLddQ6N1OIM4"
      },
      "source": [
        "5. Write a function that returns the count of unique answers to all of the questions in a dataset. For example, after filtering the entire dataset to only questions containing the word `\"King\"`, we could then find all of the unique answers to those questions. The answer \"Henry VIII\" appeared 55 times and was the most common answer."
      ]
    },
    {
      "cell_type": "code",
      "execution_count": 80,
      "metadata": {
        "colab": {
          "base_uri": "https://localhost:8080/"
        },
        "id": "VJIzuZOPOIM4",
        "outputId": "76e39f33-5153-4774-dbaf-1a169dd7e1ed"
      },
      "outputs": [
        {
          "output_type": "stream",
          "name": "stdout",
          "text": [
            "Henry VIII                   55\n",
            "Solomon                      35\n",
            "Richard III                  33\n",
            "Louis XIV                    31\n",
            "David                        30\n",
            "                             ..\n",
            "cardiac (in card I acted)     1\n",
            "Henderson                     1\n",
            "Computer                      1\n",
            "Indians                       1\n",
            "work                          1\n",
            "Name: Answer, Length: 5268, dtype: int64\n"
          ]
        }
      ],
      "source": [
        "def find_unique(database):\n",
        "  return king_data['Answer'].value_counts()\n",
        "\n",
        "print(find_unique(king_data))"
      ]
    },
    {
      "cell_type": "markdown",
      "metadata": {
        "id": "7gFfhsYEOIM4"
      },
      "source": [
        "6. Explore from here! This is an incredibly rich dataset, and there are so many interesting things to discover. There are a few columns that we haven't even started looking at yet. Here are some ideas on ways to continue working with this data:\n",
        "\n",
        " * Investigate the ways in which questions change over time by filtering by the date. How many questions from the 90s use the word `\"Computer\"` compared to questions from the 2000s?"
      ]
    },
    {
      "cell_type": "code",
      "execution_count": 133,
      "metadata": {
        "colab": {
          "base_uri": "https://localhost:8080/"
        },
        "id": "NA4_JmBGOIM5",
        "outputId": "2b5828ad-c997-41a0-9e2f-1322dbacc1b4"
      },
      "outputs": [
        {
          "output_type": "stream",
          "name": "stdout",
          "text": [
            "0         2004-12-31\n",
            "1         2004-12-31\n",
            "2         2004-12-31\n",
            "3         2004-12-31\n",
            "4         2004-12-31\n",
            "             ...    \n",
            "216925    2006-05-11\n",
            "216926    2006-05-11\n",
            "216927    2006-05-11\n",
            "216928    2006-05-11\n",
            "216929    2006-05-11\n",
            "Name: Air Date, Length: 216930, dtype: object\n",
            "25\n",
            "0\n"
          ]
        },
        {
          "output_type": "stream",
          "name": "stderr",
          "text": [
            "<ipython-input-133-09b74c08f9ac>:5: SettingWithCopyWarning: \n",
            "A value is trying to be set on a copy of a slice from a DataFrame.\n",
            "Try using .loc[row_indexer,col_indexer] = value instead\n",
            "\n",
            "See the caveats in the documentation: https://pandas.pydata.org/pandas-docs/stable/user_guide/indexing.html#returning-a-view-versus-a-copy\n",
            "  computer_data['year'] = computer_data['Air Date'].apply(lambda x: int(x.split('-')[0]))\n"
          ]
        }
      ],
      "source": [
        "df.columns\n",
        "print(df['Air Date'])\n",
        "\n",
        "computer_data = filtering([\"Computer\"], df)\n",
        "computer_data['year'] = computer_data['Air Date'].apply(lambda x: int(x.split('-')[0]))\n",
        "computer_data_20s = computer_data[computer_data['year'] == 2000]\n",
        "computer_data_20s_count = computer_data_20s['year'].count()\n",
        "print(computer_data_20s_count)\n",
        "\n",
        "computer_data_90s = computer_data[computer_data['year'] == 1900]\n",
        "computer_data_90s_count = computer_data_90s['year'].count()\n",
        "print(computer_data_90s_count)"
      ]
    }
  ],
  "metadata": {
    "kernelspec": {
      "display_name": "Python 3 (ipykernel)",
      "language": "python",
      "name": "python3"
    },
    "language_info": {
      "codemirror_mode": {
        "name": "ipython",
        "version": 3
      },
      "file_extension": ".py",
      "mimetype": "text/x-python",
      "name": "python",
      "nbconvert_exporter": "python",
      "pygments_lexer": "ipython3",
      "version": "3.7.11"
    },
    "colab": {
      "provenance": [],
      "include_colab_link": true
    }
  },
  "nbformat": 4,
  "nbformat_minor": 0
}